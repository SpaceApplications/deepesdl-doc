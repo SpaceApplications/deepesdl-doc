{
 "cells": [
  {
   "cell_type": "markdown",
   "id": "e9f43512-0b1c-4054-a8d4-aacd0a90692c",
   "metadata": {},
   "source": [
    "# WCRP 2023 - LL02: Open Earth System Science in Cloud Part 1\n",
    "\n",
    "This is the first part of the short curse. It will concentrate on data access and loading the data. Also this part is to get familiar with the DeepESDL platform.\n",
    "\n",
    "## The DeepESDL Hub Platform\n",
    "\n",
    "The DeepESDL platform is a Jupyterhub which encloses data storing and aquisition, code for processing, and the possibility for extensive plots in one single point. Collaboration and sharing is encouraged in such an environment.\n",
    "\n",
    "### Minimal Jupyter introduction\n",
    "\n",
    "You are currently looking at a Jupyter Hub. Short: A combination of interactive coding, text, equations and other outputs. It provides Jupyter Notebooks and text editors, terminals, data file viewer and interactive plottings, etc.\n",
    "\n",
    "The Interface: menu bar, left sidebar, and main work area. \n",
    "\n",
    "**Menu bar**: File, Edit, View, Run, Kernel, Tabs, Settings, Help\n",
    "\n",
    "**Left Sidebar**: Different tabs where you can browse your files, see which tabs are open, which kernels and terminals are running, table of content, Softwares (Modules that are already installed and can be used at the cluster), extention manager\n",
    "\n",
    "**Main work area**: Documents like notebooks, images, consoles and datasets are organised in panels or tabs that can be subdivided or resized depending on your workflow\n",
    "\n",
    "In a Jupyter Notebook, one can write and execute code, visualise data, and also share this code with others. The special feature of Jupyter Notebook is that the code and the description of the code are written in independent cells, so that individual code blocks can be executed individually. You can run a cell with the key combination `[Ctrl]` + `[Enter]`.\n",
    "\n",
    "## xcube and xarray\n",
    "\n",
    "[`Xarray`](https://docs.xarray.dev/en/stable/index.html) is a python module that ease the usage of labeled multi-dimensional (also known as N-dimensional) arrays built on [`NumPy`](https://numpy.org/). It allows fast and efficient array-computing, and provides functions for visualizations. Therefore it is very well suited to work with the Earth System Data Cube which contains a variety of climate and meteorological variables.\n",
    "\n",
    "In Earth system sciences, it is usually necessary to map data points in their spatial and temporal space (e.g. latitude, longitude and time). Many data formats (e.g. `zarr` or `netCDF`) allow data to be stored together with information about the dimensions and coordinates. Xarray provides two fundamental data structures to work with these data formats: DataArrays and Datasets. In the following image you can see a visual example of these structures ([source](https://docs.xarray.dev/en/stable/user-guide/data-structures.html)): \n",
    "\n",
    "![](https://docs.xarray.dev/en/stable/_images/dataset-diagram.png)\n",
    "\n",
    "- A `DataArray` contains a single multi-dimensional variable and its coordinates\n",
    "- A `Dataset` holds multiple variables and (potentially) share the same coordinates.\n",
    "\n",
    "[`xcube`](https://xcube.readthedocs.io/en) is a frontend to guarantee fast and easy data access. It is part of the DeepESDL ecosystem and provides a wide range of useful functionalities.\n",
    "\n",
    "The DeepESDL project is ongoing and **Here write about the timeline**\n",
    "\n",
    "For the environment it is only necessary to load the following packages:"
   ]
  },
  {
   "cell_type": "code",
   "execution_count": null,
   "id": "ff792262-b63c-4a57-a0a8-62779d14c71e",
   "metadata": {
    "tags": []
   },
   "outputs": [],
   "source": [
    "import xcube\n",
    "from xcube.core.store import new_data_store\n",
    "from xcube.webapi.viewer import Viewer"
   ]
  },
  {
   "cell_type": "markdown",
   "id": "ada6cb3b-fb17-4020-8480-e3c3be55bf45",
   "metadata": {},
   "source": [
    "## Loading Datasets\n",
    "\n",
    "The Data is part of the DeepESDL platform and thus no downloads need to be done. The following datasets are available as part of the public datastore of the platform. They are the backbone of the science cases of the DeepESDL Project. \n",
    "\n",
    "- Earth System Data Cube\n",
    "- Black Sea Cube\n",
    "- Land Cover Cube\n",
    "- Ocean Cube\n",
    "- SMOS freeze/thaw Cube\n",
    "- Polar Cube\n",
    "- Permafrost Cube\n",
    "\n",
    "Other data access possibilities including registration-aware ones can be used as well. Then you use a different datastore. The following plugins are available:\n",
    "\n",
    "- [Copernicus Marine Data Store](https://data.marine.copernicus.eu/products)\n",
    "- [ESA Climate Change Initiative](https://climate.esa.int/en/esa-climate/esa-cci/)\n",
    "- [Sentinel Hub cloud](https://www.sentinel-hub.com/)\n",
    "- [Copernicus Climate Change Service](https://cds.climate.copernicus.eu/)"
   ]
  },
  {
   "cell_type": "code",
   "execution_count": null,
   "id": "95f9b648-1211-474a-8d43-5ad57c2e2875",
   "metadata": {
    "tags": []
   },
   "outputs": [],
   "source": [
    "# setting up the datastore\n",
    "store = new_data_store(\"s3\", \n",
    "                       root=\"deep-esdl-public\", \n",
    "                       storage_options=dict(anon=True))\n",
    "\n",
    "# list the available datasets in the store\n",
    "store.list_data_ids()"
   ]
  },
  {
   "cell_type": "markdown",
   "id": "02ddb8af-a8d6-4016-8ee6-4b13d1c890a3",
   "metadata": {},
   "source": [
    "### Accessing Data\n",
    "\n",
    "After the setup of the store we will access the data through `xcube` to create a `xarray`. Here we can concentrate on single or multiple variables and also perform *slicing* operations. This means to subset the cube to specific times or spatial parameters.\n",
    "\n",
    "The output of `xarray` gives the possibility to explore the dataset a bit. In this case just uncomment the line with the variable and ruin the cell."
   ]
  },
  {
   "cell_type": "code",
   "execution_count": null,
   "id": "9dfc6194-5654-4d39-9270-ac51b3e2eb3a",
   "metadata": {},
   "outputs": [],
   "source": [
    "dataset = store.open_data('esdc-8d-0.25deg-256x128x128-3.0.1.zarr')\n",
    "dataset"
   ]
  },
  {
   "cell_type": "code",
   "execution_count": null,
   "id": "6e7f0cdf-dcec-4f18-8013-d3c372f2c8a4",
   "metadata": {
    "tags": []
   },
   "outputs": [],
   "source": [
    "# subsetting for a specific variable\n",
    "subset_variable = dataset['bare_soil_evaporation']\n",
    "#subset_variable"
   ]
  },
  {
   "cell_type": "code",
   "execution_count": null,
   "id": "a08343c7-5e6d-4021-a778-e058edac07d1",
   "metadata": {
    "tags": []
   },
   "outputs": [],
   "source": [
    "# subsetting for a specific time\n",
    "subset_time = dataset.sel(time=slice('2015-01-01', '2018-12-31'))\n",
    "#subset_time"
   ]
  },
  {
   "cell_type": "code",
   "execution_count": null,
   "id": "c7e42750-fbdc-4d9b-b8b2-a5fa17b54814",
   "metadata": {
    "tags": []
   },
   "outputs": [],
   "source": [
    "# subsetting for a specific area\n",
    "subset_area = dataset.sel(lat=slice(-4.5, 2), lon=slice(28.5, 35.5))\n",
    "#subset_area"
   ]
  },
  {
   "cell_type": "code",
   "execution_count": null,
   "id": "4d67aaf0-3074-4dfb-9e4e-23845de75992",
   "metadata": {
    "tags": []
   },
   "outputs": [],
   "source": [
    "# combinatiopns are possible\n",
    "subset = dataset['air_temperature_2m'].sel(\n",
    "    time = slice('2015-01-01', '2018-12-31'), \n",
    "    lat = slice(-4.5, 2), \n",
    "    lon = slice(28.5, 35.5)\n",
    ")\n",
    "#subset"
   ]
  },
  {
   "cell_type": "code",
   "execution_count": null,
   "id": "79ce3eb1-066d-470c-b163-55da04668b2a",
   "metadata": {
    "tags": []
   },
   "outputs": [],
   "source": [
    "# sometimes a specific location or time is not covered by the data. Then you probably want the nearest neighbour\n",
    "subset = dataset['air_temperature_2m'].sel(time='2000-01-01', method='nearest')\n",
    "#subset"
   ]
  },
  {
   "cell_type": "markdown",
   "id": "7f8708de-7b68-4d88-a8d9-634d79831957",
   "metadata": {},
   "source": [
    "### TODO\n",
    "You may explore the dataset a bit before you continue. Feel free to access any dataset and any variable just to test the workflow before we continue"
   ]
  },
  {
   "cell_type": "code",
   "execution_count": null,
   "id": "03d798ca-2bdc-4eca-825a-fa1a87aafb27",
   "metadata": {
    "tags": []
   },
   "outputs": [],
   "source": [
    "# This cell is for you to explore the dataset a bit. \n",
    "subset = dataset['air_temperature_2m'].sel(time='2000-01-01', method='nearest')\n",
    "subset"
   ]
  },
  {
   "cell_type": "markdown",
   "id": "d64c7426-eddd-4d4c-a2ff-69c660f89cc8",
   "metadata": {},
   "source": [
    "### Another Example: Open Data portal of the ESA Climate Change Initiative (ESA CCI)\n",
    "\n",
    "Next to the public DeepESDL datastore, there are other stores as mentioned above. The ESA CCI provides much data for Earth observation. The workflow is the same in this case.\n",
    "\n",
    "The amount of different datasets is huge. xcube also provides possibilities to search for specific data. This is not covered in this tutorial. You can find the instructions in other notebooks of the default catalogue."
   ]
  },
  {
   "cell_type": "code",
   "execution_count": null,
   "id": "cf9b11dc-a65f-4b35-960e-629ee8d7f708",
   "metadata": {
    "tags": []
   },
   "outputs": [],
   "source": [
    "# setup the store and explore the possibilities\n",
    "store = new_data_store('cciodp')\n",
    "store.list_data_ids()"
   ]
  },
  {
   "cell_type": "markdown",
   "id": "695ddd43-892b-449a-aa82-ccd51d0ca22a",
   "metadata": {},
   "source": [
    "The following line will open the daily Sea Surface Temperature: https://www.eea.europa.eu/data-and-maps/data/external/esa-sst-cci-level-4 as an example. You can explore the dataset a bit.\n"
   ]
  },
  {
   "cell_type": "code",
   "execution_count": null,
   "id": "43a68ac8-1462-4347-b16b-a67c9d05ff2f",
   "metadata": {
    "jp-MarkdownHeadingCollapsed": true,
    "tags": []
   },
   "outputs": [],
   "source": [
    "dataset = store.open_data('esacci.SST.day.L4.SSTdepth.multi-sensor.multi-platform.OSTIA.2-1.sst')\n",
    "dataset"
   ]
  },
  {
   "cell_type": "markdown",
   "id": "39a40f3a-a945-4836-9799-b7f18ecbab50",
   "metadata": {},
   "source": [
    "## Accessing the real data\n",
    "\n",
    "So far we just accessed stores and datasets. We didn't see the actual data so far. This has something to do with *lazyness*. The data is accesssed only when it's really needed. This ensures less stress on the platform and also speeds up development of our workflows.\n",
    "\n",
    "Sometimes it is necessary though to get to the real data. then we can use the field `values` which is available for all `xarrays`. Please have in mind, that you first subset to a specific location or time. The following cell retrieves the ERA5 precipitation data of Greenwich, London and actually accesses the data."
   ]
  },
  {
   "cell_type": "code",
   "execution_count": null,
   "id": "cf06e338-8683-4390-94e0-9d61d8c1badf",
   "metadata": {
    "tags": []
   },
   "outputs": [],
   "source": [
    "# setup the store again to public DeepESDL data and access the ESDC\n",
    "store = new_data_store(\"s3\", \n",
    "                       root=\"deep-esdl-public\", \n",
    "                       storage_options=dict(anon=True))\n",
    "dataset = store.open_data('esdc-8d-0.25deg-256x128x128-3.0.1.zarr')\n",
    "#subset to Greenwich, London\n",
    "subset = dataset[\"precipitation_era5\"].sel(lat=51.48, lon=0, method='nearest')\n",
    "subset.values"
   ]
  },
  {
   "cell_type": "markdown",
   "id": "dfc57343-f565-41bc-aaac-942ef0e327ad",
   "metadata": {},
   "source": [
    "Other possibilities to access data:\n",
    "\n",
    "- convert to dataframe"
   ]
  },
  {
   "cell_type": "code",
   "execution_count": null,
   "id": "d417a7a6-1c5a-4124-8fc9-db59fbb240c5",
   "metadata": {
    "tags": []
   },
   "outputs": [],
   "source": [
    "# conversion to dataframe with 1D data\n",
    "subset_1D = dataset[\"precipitation_era5\"].sel(lat=51.48, lon=0, method='nearest')\n",
    "subset_1D.to_dataframe()"
   ]
  },
  {
   "cell_type": "code",
   "execution_count": null,
   "id": "c4cd41e7-81b0-4020-8725-dcc7eba457d5",
   "metadata": {
    "tags": []
   },
   "outputs": [],
   "source": [
    "# conversion to numPy array for 2D data\n",
    "subset_2D = dataset[\"precipitation_era5\"].sel(time = '2015-06-20', method='nearest')\n",
    "subset_2D.to_numpy()"
   ]
  },
  {
   "cell_type": "markdown",
   "id": "332020fd-40e6-4b36-8dd0-f42bd1e927b9",
   "metadata": {},
   "source": [
    "## Exercise: Land Surface Temperature in Kigali\n",
    "\n",
    "This is a small guided exercise to extract information about Kigali.\n",
    "\n",
    "The goal is to extract the Land Surface temperature of Kigali in 2012. Use the dataset `esacci.LST.day.L3S.LST.multi-sensor.multi-platform.IRCDR.2-00.DAY` from the ESA CCI dataset. "
   ]
  },
  {
   "cell_type": "code",
   "execution_count": null,
   "id": "f4eaf9fa-70d2-473e-a98e-ffd88edf035a",
   "metadata": {
    "tags": []
   },
   "outputs": [],
   "source": [
    "# TODO: Setup of the ESA CCI store\n"
   ]
  },
  {
   "cell_type": "code",
   "execution_count": null,
   "id": "e6ede272-2b7f-4aa8-b46e-c8f1799e006a",
   "metadata": {
    "tags": []
   },
   "outputs": [],
   "source": [
    "# TODO: Access the dataset and explore it\n"
   ]
  },
  {
   "cell_type": "code",
   "execution_count": null,
   "id": "dcce97b4-c545-4da7-ba0c-8c1865eabb3b",
   "metadata": {
    "tags": []
   },
   "outputs": [],
   "source": [
    "# TODO: subset the dataset to the single variable lst\n"
   ]
  },
  {
   "cell_type": "code",
   "execution_count": null,
   "id": "7240ac41-b19b-448f-81ae-63f12fe5b184",
   "metadata": {
    "tags": []
   },
   "outputs": [],
   "source": [
    "# find out about the lat and lon coordinates of Kigali and extract the time-series of Kigali\n"
   ]
  },
  {
   "cell_type": "code",
   "execution_count": null,
   "id": "399c8d9c-9a07-492b-a149-542911f579ba",
   "metadata": {
    "tags": []
   },
   "outputs": [],
   "source": [
    "# convert the result to a dataframe\n"
   ]
  }
 ],
 "metadata": {
  "kernelspec": {
   "display_name": "deepesdl-xcube-1.1.2",
   "language": "python",
   "name": "conda-env-deepesdl-xcube-1.1.2-py"
  },
  "language_info": {
   "codemirror_mode": {
    "name": "ipython",
    "version": 3
   },
   "file_extension": ".py",
   "mimetype": "text/x-python",
   "name": "python",
   "nbconvert_exporter": "python",
   "pygments_lexer": "ipython3",
   "version": "3.11.4"
  }
 },
 "nbformat": 4,
 "nbformat_minor": 5
}
