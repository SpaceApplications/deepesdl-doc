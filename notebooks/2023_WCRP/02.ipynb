{
 "cells": [
  {
   "cell_type": "markdown",
   "id": "460b2020-4842-41b9-97ca-801799226688",
   "metadata": {},
   "source": [
    "# WCRP 2023 - LL02: Open Earth System Science in Cloud Part 2\n",
    "\n",
    "This part is about plotting data with the DeepESDL platform. There are two main perspectives. First, most data formats from `xarray` can directly be plotted. Additionally, it is possible to setup the xcube viewer and use it as a very intuitive way to explore more complex raster datasets.\n",
    "\n",
    "First of all let's import all important libraries. This time we will include the Viewer component from xcube. Also the 'matplotlib' is included. This is only necessary if you want to use customizations. In general this is not necessary for simple plots. You can indicate if it is used by the `plt.` in front of functions."
   ]
  },
  {
   "cell_type": "code",
   "execution_count": null,
   "id": "836dde83-2688-4638-a2e1-a8c2f99da427",
   "metadata": {
    "tags": []
   },
   "outputs": [],
   "source": [
    "import xcube\n",
    "from xcube.core.store import new_data_store\n",
    "from xcube.webapi.viewer import Viewer\n",
    "import matplotlib.pyplot as plt"
   ]
  },
  {
   "cell_type": "markdown",
   "id": "4c4507a5-33d9-442d-b8c6-d47dee71ec43",
   "metadata": {},
   "source": [
    "## Data Loading\n",
    "\n",
    "In this notebook we will only use the Earth system data cube (ESDC) from the public DeepESDL store. Please review for short how to load the data from the last notebook.\n"
   ]
  },
  {
   "cell_type": "code",
   "execution_count": null,
   "id": "efeb4e9e-8746-4a93-a813-960705244bd0",
   "metadata": {
    "tags": []
   },
   "outputs": [],
   "source": [
    "# TODO: define the datastore for accessing public DeepESDL data\n",
    "#store = \n",
    "\n",
    "# TODO: Load the data cube esdc-8d-0.25deg-256x128x128-3.0.1.zarr\n",
    "#dataset = \n"
   ]
  },
  {
   "cell_type": "markdown",
   "id": "d0b05a43-aa71-4d55-b1c2-26c4aff791ce",
   "metadata": {},
   "source": [
    "## Plotting with `xarray`\n",
    "\n",
    "The `xarray` library is capable to plot data. All important libraries for this are already loaded with xcube in the DeepESDL platform. The plots are actually done by the famous `matplotlib` library based on the data. But you can also customize your plots."
   ]
  },
  {
   "cell_type": "markdown",
   "id": "4b0e48ef-c50f-4169-b77f-ac46022d12cb",
   "metadata": {},
   "source": [
    "### Simple 1D plots\n",
    "\n",
    "First we want to concentrate on simple line plots and plots of one dimensional data. For this we will have a look at the air temperatures in 2m height in Kigali.\n",
    " This is a very simple plot and no customization is done. This technique is great for exploration."
   ]
  },
  {
   "cell_type": "code",
   "execution_count": null,
   "id": "dcf3122d-8dd5-49db-8d9c-e5e91fc18e79",
   "metadata": {
    "tags": []
   },
   "outputs": [],
   "source": [
    "data = dataset['air_temperature_2m'].sel(\n",
    "    lat = -1.94995000,\n",
    "    lon = 30.05885000,\n",
    "    method='nearest')\n",
    "data.plot()"
   ]
  },
  {
   "cell_type": "markdown",
   "id": "5ee7df9f-3590-4814-81c1-753abe2cc65f",
   "metadata": {},
   "source": [
    "The plot function allows a wide variety of inputs to control the graphics. Here, `matplotlib` is an extensive library to explore. The `xarray` package not just delivers the data, but also descriptions about the axes and so the axes labels are correct. Let's customize the plot a bit further:\n",
    "\n",
    "- colors\n",
    "- markers\n",
    "- aspect ratio of the figure."
   ]
  },
  {
   "cell_type": "code",
   "execution_count": null,
   "id": "a141b61b-3df2-4652-ad53-189ecc8e8af1",
   "metadata": {
    "tags": []
   },
   "outputs": [],
   "source": [
    "data.plot(marker = 'o', color='green')\n",
    "plt.title('2m air temperature in Kigali')"
   ]
  },
  {
   "cell_type": "code",
   "execution_count": null,
   "id": "f9c2f761-d768-4792-b760-4d7f60f1a737",
   "metadata": {
    "tags": []
   },
   "outputs": [],
   "source": [
    "data.plot(linestyle='--', marker = 'o', color='green', aspect=2, size=8)\n",
    "plt.title('2m air temperature in Kigali')"
   ]
  },
  {
   "cell_type": "markdown",
   "id": "bb85fb7b-b502-4d88-befc-8611c951b704",
   "metadata": {},
   "source": [
    "### More 1D plots\n",
    "\n",
    "There are many more kinds of plots for 1D data. And also there are ways to customize the plots even more. This is all based on the `matplotlib` library. So far we used `plot` without any specialization. We could have used as well: `dataset.plot.line()`. This is what is happening in the background anyway. But there are other possibilities as well."
   ]
  },
  {
   "cell_type": "code",
   "execution_count": null,
   "id": "05f6726f-4cd9-40a8-adba-147acd1a831d",
   "metadata": {
    "tags": []
   },
   "outputs": [],
   "source": [
    "data.plot.hist()"
   ]
  },
  {
   "cell_type": "markdown",
   "id": "060edcef-8153-4ecf-9301-2fbf44618bc6",
   "metadata": {},
   "source": [
    "Even more intersting is to bundle several plots together. You need to use slicing in more than one variable for this. The next plot shows the 2m air temperature at 3 different positions."
   ]
  },
  {
   "cell_type": "code",
   "execution_count": null,
   "id": "87794c28-b46c-4eed-b34e-3532784aa986",
   "metadata": {
    "tags": []
   },
   "outputs": [],
   "source": [
    "data = dataset['air_temperature_2m'].sel(\n",
    "    lat = [10, 0, -10],\n",
    "    lon = 30,\n",
    "    method='nearest')\n",
    "data.plot()"
   ]
  },
  {
   "cell_type": "markdown",
   "id": "2bbe9533-6651-4af2-8ad3-18857c7c4a12",
   "metadata": {},
   "source": [
    "Well this is not what we intended. In this case we need to specify the kind of plot as `line` our variable for the x-axis as well. This should be the `time` variable.\n",
    "Please remember that those are just number experiments. In notebook 3 we will have a look at a more realistic plotting scenario."
   ]
  },
  {
   "cell_type": "code",
   "execution_count": null,
   "id": "f73a0dc9-c3f3-485c-a583-54ad7704d62a",
   "metadata": {
    "tags": []
   },
   "outputs": [],
   "source": [
    "data = dataset['air_temperature_2m'].sel(\n",
    "    lat = [10, 0, -10],\n",
    "    lon = 30,\n",
    "    method='nearest')\n",
    "data.plot.line(x=\"time\")"
   ]
  },
  {
   "cell_type": "markdown",
   "id": "83dfec0c-7206-41ac-b0ee-69195eb4990e",
   "metadata": {},
   "source": [
    "### 2D plots\n",
    "\n",
    "Two dimensional plots are very famous and with `xarray` they are also easy to create. Let's have a look at the 2m air temperature in Rwanda 5 years ago.\n",
    "\n",
    "**Attention**\n",
    "We didn't run into this yet, but it is not possible to use `method=nearest` together with `slice`. If you want to combine both, You need to split the command into two parts.\n",
    "\n",
    "*Hint:* You can also combine different commands for more efficiency."
   ]
  },
  {
   "cell_type": "code",
   "execution_count": null,
   "id": "acdd817d-a560-47e9-aef9-9f4c02c558f8",
   "metadata": {
    "tags": []
   },
   "outputs": [],
   "source": [
    "# This will cause an error\n",
    "#data = dataset['air_temperature_2m'].sel(\n",
    "#    lat = slice(-2.8, -1.0),\n",
    "#    lon = slice(28.8, 30.9),\n",
    "#    time = '2018-10-24',\n",
    "#    method = 'nearest')\n",
    "\n",
    "# This is recommended\n",
    "rwanda_data = dataset['air_temperature_2m'].sel(\n",
    "    lat = slice(-2.8, -1.0),\n",
    "    lon = slice(28.8, 30.9)\n",
    ")\n",
    "rwanda_data.sel(\n",
    "    time = '2018-10-24',\n",
    "    method='nearest'\n",
    ").plot()\n",
    "plt.title(\"2m air temperature of Rwanda, around 2018-10-24\")"
   ]
  },
  {
   "cell_type": "markdown",
   "id": "645e5e08-2945-4908-b6e3-8a64937ad57d",
   "metadata": {},
   "source": [
    "We want to have a look at one more example. In case values are not available (`missing` or `NaN`), the `plot` function will actually care for this. Here is an example about this. The Gross Primary Productivity (GPP) is only available as data, where landmass is present. Also, there is no GPP in the desert region."
   ]
  },
  {
   "cell_type": "code",
   "execution_count": null,
   "id": "fc60d8a8-16f7-4db2-8a51-c36159fd74b5",
   "metadata": {
    "tags": []
   },
   "outputs": [],
   "source": [
    "africa_data = dataset['gross_primary_productivity'].sel(\n",
    "    lat=slice(-35, 37),\n",
    "    lon=slice(-18, 52)\n",
    ")\n",
    "africa_data.sel(\n",
    "    time = '2018-10-24',\n",
    "    method='nearest'\n",
    ").plot()\n",
    "plt.title(\"GPP in Africa around 2018-10-24\")"
   ]
  },
  {
   "cell_type": "markdown",
   "id": "2077aa36-5fb3-4562-8aa6-e65a7b6a923f",
   "metadata": {},
   "source": [
    "This is also the moment to show how to save such plots. For this you need to have the following command in the same cell as the plotting commands. Here we also introduce the possibility to change the colormap in the plot command."
   ]
  },
  {
   "cell_type": "code",
   "execution_count": null,
   "id": "f97c299a-35dd-46c1-88c4-f0485cd21cb9",
   "metadata": {
    "tags": []
   },
   "outputs": [],
   "source": [
    "africa_data.sel(\n",
    "    time = '2018-10-24',\n",
    "    method='nearest'\n",
    ").plot(\n",
    "    cmap='viridis'\n",
    ")\n",
    "# Save the figure\n",
    "plt.savefig('GPP_Africa_2018_10_24.pdf')"
   ]
  },
  {
   "cell_type": "markdown",
   "id": "c3e1afaa-d5c4-42ab-a4df-a7d849e98375",
   "metadata": {},
   "source": [
    "## xcube viewer\n",
    "\n",
    "As part of the DeepESDL platform, there is one more feature for plotting. This is the xcube viewer. It is a whole dynamic and interactive plotting experience for datacubes. We want to concentrate our view to the central african region between 2015 and 2020. Therefore we need to create a dataset first."
   ]
  },
  {
   "cell_type": "code",
   "execution_count": null,
   "id": "73582c4f-996d-49e9-baee-255e5b606cc6",
   "metadata": {
    "tags": []
   },
   "outputs": [],
   "source": [
    "# first limit to variables\n",
    "climate_data = dataset[\n",
    "['air_temperature_2m', 'evaporation_era5', 'precipitation_era5']\n",
    "]\n",
    "\n",
    "# Now limit to spatial dimensions\n",
    "central_africa_data = climate_data.sel(\n",
    "    lat = slice(-20, 20),\n",
    "    lon = slice(-18, 52)\n",
    ")\n",
    "\n",
    "# now limit the time frame\n",
    "final_data = central_africa_data.sel(\n",
    "    time = slice('2015-01-01', '2015-12-31')\n",
    ")"
   ]
  },
  {
   "cell_type": "markdown",
   "id": "4e1264a3-95f9-413f-b0c9-597c7387ee9b",
   "metadata": {},
   "source": [
    "This datacube is still to big to find a suitable way for plotting. But the xcube viewer can be a solution.\n",
    "\n",
    "Please set up a scaling according to the data to get the best experience. You can do this with clicking the colorbar."
   ]
  },
  {
   "cell_type": "code",
   "execution_count": null,
   "id": "a88247d3-9680-43e2-8211-cb7d023687ed",
   "metadata": {
    "tags": []
   },
   "outputs": [],
   "source": [
    "viewer = Viewer()\n",
    "viewer.add_dataset(final_data)\n",
    "viewer.show()"
   ]
  }
 ],
 "metadata": {
  "kernelspec": {
   "display_name": "deepesdl-xcube-1.1.2",
   "language": "python",
   "name": "conda-env-deepesdl-xcube-1.1.2-py"
  },
  "language_info": {
   "codemirror_mode": {
    "name": "ipython",
    "version": 3
   },
   "file_extension": ".py",
   "mimetype": "text/x-python",
   "name": "python",
   "nbconvert_exporter": "python",
   "pygments_lexer": "ipython3",
   "version": "3.11.4"
  }
 },
 "nbformat": 4,
 "nbformat_minor": 5
}
