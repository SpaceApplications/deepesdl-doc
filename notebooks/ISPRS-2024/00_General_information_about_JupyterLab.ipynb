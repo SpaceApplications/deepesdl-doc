{
 "cells": [
  {
   "cell_type": "markdown",
   "id": "entertaining-dominant",
   "metadata": {},
   "source": [
    "# ISPRS Part 0\n",
    "\n",
    "In this Notebook, we give a brief intoduction to JupyterLab with its different features to Python. It is far from complete, but should allow you to easily use this infrastructure to compute and visualize simple processes of the Earth System. You can test your ideas and methods and try different datasets simply in the web interface.\n",
    "\n",
    "**Always have in mind: You can't destroy anything in this environment. In the worst case we just refresh the page and login again.**\n"
   ]
  },
  {
   "cell_type": "markdown",
   "id": "regular-lesbian",
   "metadata": {
    "tags": []
   },
   "source": [
    "## JupyterLab\n",
    "\n",
    "### What is Jupyterlab?\n",
    "Find more information on JupyterLab on the documentation website: https://jupyterlab.readthedocs.io/en/stable/.\n",
    "\n",
    "Short: A combination of interactive coding, text, equations and other outputs. It provides Jupyter Notebooks and text editors, terminals, data file viewer and interactive plottings, etc.\n",
    "\n",
    "The Interface: menu bar, left sidebar, and main work area. \n",
    "\n",
    "**Menu bar**: File, Edit, View, Run, Kernel, Tabs, Settings, Help\n",
    "\n",
    "**Left Sidebar**: Different tabs where you can browse your files, see which tabs are open, which kernels and terminals are running, table of content, Softwares (Modules that are already installed and can be used at the cluster), extention manager\n",
    "\n",
    "**Main work area**: Documents like notebooks, images, consoles and datasets are organised in panels or tabs that can be subdivided or resized depending on your workflow\n",
    "\n",
    "### Jupyter Notebooks (.ipynb)\n",
    "\n",
    "In a Jupyter Notebook, one can write and execute code, visualise data, and also share this code with others. The special feature of Jupyter Notebook is that the code and the description of the code are written in independent cells, so that individual code blocks can be executed individually. \n",
    "\n",
    "To open a new Notebook, click the ```+``` button in the file browser and select a kernel in the new Launcher tab. Rename it by right-clicking on its name in the file browser and selecting \"Rename\" from the context menu.\n",
    "\n",
    "You can add narrative text in Markdown, equations in LaTeX, images and also interactive visualizations. Thereby you can comment your calculations and figures.\n"
   ]
  },
  {
   "cell_type": "markdown",
   "id": "several-postcard",
   "metadata": {},
   "source": [
    "#### Markdown\n",
    "More information on Markdown can be found here: https://www.markdownguide.org/cheat-sheet/.\n",
    "\n",
    "You can insert a heading when you start a line with `#`. There are up to 6 levels of heading. \n",
    "\n",
    "*you can write italics*\n",
    "\n",
    "**or insert a bold text**\n",
    "\n",
    "- give unordered\n",
    "- lists\n",
    "\n",
    "1. or show them in an ordered style\n",
    "4. no matter if you count correctly or\n",
    "2. like this one\n",
    "1. not\n",
    "\n",
    "> blockquote allows this format\n",
    "\n",
    "---\n",
    "\n",
    "Type some `inline code` and you can easily read code it in a rich text.\n",
    "\n",
    "Or insert a block of code\n",
    "```\n",
    "using three backticks\n",
    "and end this block with three more backticks\n",
    "```\n",
    "We can easily insert equations with `$`, e.g. Stefan-Boltzmann law: $ P = \\sigma \\cdot A \\cdot T^4 $\n",
    "\n",
    "Insert any url: www.rsc4earth.de \n",
    "Or we can customise the link with [Remote Sensing Centre](https://rsc4earth.de)\n"
   ]
  },
  {
   "cell_type": "markdown",
   "id": "virtual-dinner",
   "metadata": {
    "tags": []
   },
   "source": [
    "## Python\n",
    "You can find detailed tutorials on the official python website: https://docs.python.org/3.9/tutorial/\n",
    "\n",
    "Different ways to use Python:\n",
    "* Running a Python file in a terminal, e.g. ```python script.py```\n",
    "* In an interactive console (IDE (Integrated Development Environment) or iPython shell) \n",
    "* With an interactive notebook, e.g. Jupyter\n",
    "\n",
    "In this course, we will use Jupyter Notebooks."
   ]
  },
  {
   "cell_type": "markdown",
   "id": "wooden-criminal",
   "metadata": {},
   "source": [
    "### Basic Variables: Numbers and Strings"
   ]
  },
  {
   "cell_type": "code",
   "execution_count": null,
   "id": "incident-laugh",
   "metadata": {},
   "outputs": [],
   "source": [
    "# lines starting with a \"#\" symbol are comments\n",
    "a = 'hello'\n",
    "b = 25"
   ]
  },
  {
   "cell_type": "code",
   "execution_count": null,
   "id": "seasonal-observation",
   "metadata": {},
   "outputs": [],
   "source": [
    "a"
   ]
  },
  {
   "cell_type": "code",
   "execution_count": null,
   "id": "bacterial-senate",
   "metadata": {},
   "outputs": [],
   "source": [
    "# print(a, b)\n",
    "print(type(a))\n",
    "print(type(b))"
   ]
  },
  {
   "cell_type": "markdown",
   "id": "pacific-closure",
   "metadata": {},
   "source": [
    "You can apply a method on an object by `variable.method`"
   ]
  },
  {
   "cell_type": "code",
   "execution_count": null,
   "id": "significant-appendix",
   "metadata": {},
   "outputs": [],
   "source": [
    "# e.g. capitalize a string\n",
    "a.capitalize()"
   ]
  },
  {
   "cell_type": "markdown",
   "id": "emerging-turkey",
   "metadata": {},
   "source": [
    "### Basic arithmetics and logic"
   ]
  },
  {
   "cell_type": "code",
   "execution_count": null,
   "id": "julian-breakfast",
   "metadata": {},
   "outputs": [],
   "source": [
    "x = 592\n",
    "y = 42"
   ]
  },
  {
   "cell_type": "code",
   "execution_count": null,
   "id": "joint-essence",
   "metadata": {},
   "outputs": [],
   "source": [
    "x-y # + / **"
   ]
  },
  {
   "cell_type": "code",
   "execution_count": null,
   "id": "automated-problem",
   "metadata": {},
   "outputs": [],
   "source": [
    "# AND / OR / not logical statements\n",
    "True or (not False)"
   ]
  },
  {
   "cell_type": "markdown",
   "id": "protective-fraction",
   "metadata": {},
   "source": [
    "### Lists\n",
    "Lists are used to store multiple items in a single variable. Create a list with different spheres of the Earth system:"
   ]
  },
  {
   "cell_type": "code",
   "execution_count": null,
   "id": "equivalent-petersburg",
   "metadata": {},
   "outputs": [],
   "source": [
    "my_list = ['Geosphere', 'Hydrosphere', 'Biosphere']\n",
    "\n",
    "my_list.sort()\n",
    "print(my_list)\n",
    "\n",
    "my_list.append('Atmosphere')\n",
    "# call an element with \n",
    "\n",
    "print(my_list)"
   ]
  },
  {
   "cell_type": "markdown",
   "id": "rough-output",
   "metadata": {},
   "source": [
    "### Functions\n",
    "When you face a repeating task, it is useful to write a function. A function takes inputs (named \"arguements\"), applies a function on it and returns (not always) something. Variables inside a function are local. That means, that you cannot call them outside of the function. To save the outcome, you'd use the `return` statement.\n",
    "\n",
    "We want to define a function that translates degrees Celcius into Kelvin."
   ]
  },
  {
   "cell_type": "code",
   "execution_count": null,
   "id": "polish-nursing",
   "metadata": {},
   "outputs": [],
   "source": [
    "def greeting(name):\n",
    "    print('Hello, ' + name + '!')"
   ]
  },
  {
   "cell_type": "code",
   "execution_count": null,
   "id": "stainless-there",
   "metadata": {},
   "outputs": [],
   "source": [
    "greeting('World')"
   ]
  },
  {
   "cell_type": "code",
   "execution_count": null,
   "id": "taken-style",
   "metadata": {},
   "outputs": [],
   "source": [
    "def cel_to_kel(c):\n",
    "    k = c + 273.15\n",
    "#    print(k)\n",
    "    return k"
   ]
  },
  {
   "cell_type": "code",
   "execution_count": null,
   "id": "strong-marina",
   "metadata": {},
   "outputs": [],
   "source": [
    "cel_to_kel(-273.15)"
   ]
  },
  {
   "cell_type": "markdown",
   "id": "august-gabriel",
   "metadata": {},
   "source": [
    "### Packages (modules)\n",
    "\n",
    "For many applications there are packages or so called modules that supports your work, they are basically code libraries. If you want to work with numerical functions, linear algebra routines, Fourier transforms etc. it is recommended to use `numpy`. Numpy stands for Numerical Python. And when you want to plot your data, you can use `matplotlib`. See also the documentations: https://numpy.org/ and https://matplotlib.org/.\n",
    "\n",
    "You can check on all variables and functions in the module when you call `dir(module)`.\n",
    "\n",
    "There are different options how to import packages/modules:"
   ]
  },
  {
   "cell_type": "code",
   "execution_count": null,
   "id": "essential-drain",
   "metadata": {},
   "outputs": [],
   "source": [
    "import numpy"
   ]
  },
  {
   "cell_type": "markdown",
   "id": "residential-happening",
   "metadata": {},
   "source": [
    "Usually, you would **alias** numpy by np, to shorten your code:\n",
    "\n",
    "`import [long_name] as [short]`"
   ]
  },
  {
   "cell_type": "code",
   "execution_count": null,
   "id": "funded-produce",
   "metadata": {
    "tags": []
   },
   "outputs": [],
   "source": [
    "import numpy as np\n",
    "import matplotlib.pyplot as plt"
   ]
  }
 ],
 "metadata": {
  "kernelspec": {
   "display_name": "deepesdl-ml-2024.05",
   "language": "python",
   "name": "conda-env-deepesdl-ml-2024.05-py"
  },
  "language_info": {
   "codemirror_mode": {
    "name": "ipython",
    "version": 3
   },
   "file_extension": ".py",
   "mimetype": "text/x-python",
   "name": "python",
   "nbconvert_exporter": "python",
   "pygments_lexer": "ipython3",
   "version": "3.10.14"
  },
  "toc-autonumbering": false,
  "toc-showcode": false,
  "toc-showmarkdowntxt": false
 },
 "nbformat": 4,
 "nbformat_minor": 5
}
