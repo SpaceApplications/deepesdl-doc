{
 "cells": [
  {
   "cell_type": "markdown",
   "id": "460b2020-4842-41b9-97ca-801799226688",
   "metadata": {},
   "source": [
    "# ISPRS Part 3\n",
    "\n",
    "This part is about the combination of the the other two notebooks and also adding processing data. Our goal is to analyse real situations. We will also get deeper into plotting to create figures which could be part of your next paper.\n",
    "\n",
    "We start again with loading the according libraries and load datasets"
   ]
  },
  {
   "cell_type": "code",
   "execution_count": null,
   "id": "a588d380-4875-4e5b-9455-888f18f61ee0",
   "metadata": {
    "tags": []
   },
   "outputs": [],
   "source": [
    "import xcube\n",
    "from xcube.core.store import new_data_store\n",
    "from xcube.webapi.viewer import Viewer\n",
    "\n",
    "import matplotlib.pyplot as plt"
   ]
  },
  {
   "cell_type": "code",
   "execution_count": null,
   "id": "ce884d1c-96dc-4d7d-9871-147edaf78c36",
   "metadata": {
    "tags": []
   },
   "outputs": [],
   "source": [
    "store = new_data_store(\"s3\", \n",
    "                       root=\"deep-esdl-public\", \n",
    "                       storage_options=dict(anon=True))\n",
    "dataset = store.open_data('esdc-8d-0.25deg-256x128x128-3.0.1.zarr')"
   ]
  },
  {
   "cell_type": "markdown",
   "id": "380aa2f9-1e06-4351-9a7d-e8e1a43637e1",
   "metadata": {},
   "source": [
    "## Processing data\n",
    "\n",
    "The `xarray` library is also capable to process data. And the DeepESDL platform hardware powerful enough to fullfill even difficult tasks.\n",
    "\n",
    "The simplest computations for reduction of dimension are: `min`, `max`, `mean`, `median`, `count`, `std`, `var`\n",
    "\n",
    "Additionally you can use the `dim=` argument to specify along which dimension the reduction should happen. Here are some examples:"
   ]
  },
  {
   "cell_type": "code",
   "execution_count": null,
   "id": "22d80e77-7787-4e62-a170-e799bc703104",
   "metadata": {
    "tags": []
   },
   "outputs": [],
   "source": [
    "# precipitation in the coastal area in south west Australia\n",
    "perth_data = dataset['precipitation_era5'].sel(\n",
    "    lat = slice(-36.0, -28.0),\n",
    "    lon = slice(114.5, 121.0),\n",
    "    time = slice('2019-01-01', '2022-12-31')\n",
    ")\n",
    "\n",
    "# and now the processing to mean values for each time step\n",
    "perth_mean = perth_data.mean(dim = ['lat','lon'])\n",
    "# plotting\n",
    "perth_mean.plot.line()\n",
    "plt.title(\"Precipitation in south western Australia coastal region 2019-2022\")"
   ]
  },
  {
   "cell_type": "markdown",
   "id": "12a69ea7-93bd-403a-a0d3-8ecb127711a2",
   "metadata": {
    "tags": []
   },
   "source": [
    "Another example is to compute the Normalized Difference Vegetation Index (NDVI), which is an index especially for vegetation. Let's consider we don't have acces to them (in fact they are part of the ESDC).\n",
    "\n",
    "Remember the formula:\n",
    "\n",
    "$$\\text{NDVI} = \\frac{\\text{NIR} - \\text{RED}}{\\text{NIR} + \\text{RED}}$$\n",
    "\n",
    "`xarray` is capable to understand arithmetics and to compute accordingly. Therefore consider the following example\n"
   ]
  },
  {
   "cell_type": "code",
   "execution_count": null,
   "id": "2d501c78-f319-49ae-8568-56df02ea78de",
   "metadata": {
    "tags": []
   },
   "outputs": [],
   "source": [
    "# First subset the data\n",
    "perth_data = dataset.sel(\n",
    "    lat = slice(-36.0, -28.0),\n",
    "    lon = slice(114.5, 121.0),\n",
    "    time = slice('2019-01-01', '2022-12-31')\n",
    ")\n",
    "\n",
    "# Now define the important bands for better comprehension\n",
    "NIR = perth_data['nbar_nir']\n",
    "RED = perth_data['nbar_red']\n",
    "\n",
    "# now you can process these data arrays\n",
    "NDVI = (NIR - RED) / (NIR + RED)\n",
    "\n",
    "# This will ensure that any NaN or infinite values resulting from the division are filtered out, keeping the NDVI values valid:\n",
    "NDVI = NDVI.where((NIR + RED) != 0)"
   ]
  },
  {
   "cell_type": "markdown",
   "id": "6244cfd6-31e8-4e8f-b281-5e3c4b1c0ca1",
   "metadata": {},
   "source": [
    "You should check the result with some nice plot"
   ]
  },
  {
   "cell_type": "code",
   "execution_count": null,
   "id": "970856f4-76df-4f4e-b83d-943d7413c308",
   "metadata": {
    "tags": []
   },
   "outputs": [],
   "source": [
    "NDVI.sel(time = '2021-03-16', method='nearest').plot()"
   ]
  },
  {
   "cell_type": "markdown",
   "id": "87c30045-a9c3-462d-9eed-829e1591098b",
   "metadata": {},
   "source": [
    "Another small example task is to find differences in different data products which describe similar things. In the ESDC there are two Solar induced chlorophyll fluorescence products: the `sif_rtsif` and the `sif_gosif`. We want to find out if there are differences and how big these are. To limit our computations we want to slice the time to the year 2020."
   ]
  },
  {
   "cell_type": "code",
   "execution_count": null,
   "id": "26b8355f-5209-4e30-90f7-f73fd978b12b",
   "metadata": {
    "tags": []
   },
   "outputs": [],
   "source": [
    "# create a subset for the year 2020\n",
    "subset = dataset.sel(\n",
    "    time = slice('2020-01-01', '2020-12-31')\n",
    ")\n",
    "\n",
    "# create variables for each product\n",
    "rtsif = subset['sif_rtsif']\n",
    "gosif = subset['sif_gosif']\n",
    "\n",
    "# calculate the absolute difference\n",
    "sif_difference = abs(rtsif-gosif)\n",
    "\n",
    "# remember the values operation to access the data\n",
    "print(f\"The mean absolute difference between rtsif and gosif is {sif_difference.mean().values:.3g}\")"
   ]
  },
  {
   "cell_type": "markdown",
   "id": "35550d9c-bc17-4961-bdb4-3205bb9ca98d",
   "metadata": {},
   "source": [
    "This difference is really not big. But we would like to know how the differences are distributed around the world. Therefore we want to create a map with the maximum values."
   ]
  },
  {
   "cell_type": "code",
   "execution_count": null,
   "id": "601a69d6-dac1-4a05-917e-1e7f7c4ae83d",
   "metadata": {
    "tags": []
   },
   "outputs": [],
   "source": [
    "sif_difference.max(dim = 'time').plot(aspect=2, size=8)\n",
    "plt.title(\"maximum differences of absolute sif values in 2020\")"
   ]
  },
  {
   "cell_type": "markdown",
   "id": "7aa3c3cb-f3a9-4af7-b5a3-2b921dc9ebcf",
   "metadata": {},
   "source": [
    "## Grouping mechanisms\n",
    "\n",
    "The grouping mechanism is another powerful tool to perform:\n",
    "\n",
    "1. *Temporal Grouping*: Imagine you have a time series of data spanning multiple years and you want to compute the monthly or yearly average.\n",
    "1. *Spatial Grouping*: If your data has categorical land use types, you might want to compute the mean value of a variable for each land type.\n",
    "\n",
    "In our examples we want to concentrate on temporal grouping because we didn't introduce categorical variables.\n",
    "\n",
    "We want to create a plot which gives the mean 2m air temperatures of each year in the northern area of Australia."
   ]
  },
  {
   "cell_type": "code",
   "execution_count": null,
   "id": "ead1bcba-5d65-464c-82cc-2d8e730a8d6d",
   "metadata": {
    "tags": []
   },
   "outputs": [],
   "source": [
    "# Limit to spatial dimensions\n",
    "coastal_data = dataset['air_temperature_2m'].sel(\n",
    "    lat = slice(-20.0, -10.0),\n",
    "    lon = slice(117, 155),\n",
    ")\n",
    "\n",
    "# group by time.year\n",
    "data_yearly = coastal_data.groupby('time.year').mean(dim = 'time')\n",
    "data_yearly.mean(dim = ['lat','lon']).plot()\n",
    "plt.title('2m air temperature in North Australien region')"
   ]
  },
  {
   "cell_type": "markdown",
   "id": "20b75a9e-c937-46ff-991c-6a5c8fa06c79",
   "metadata": {},
   "source": [
    "You might wonder why we didn't combine the `mean` function to `mean(dim = ['time', 'lat', 'lon')`. This is because we have yearly maps now which can be used to create a new yearly dataset.\n",
    "\n",
    "With grouping we even have a new coordinate which we can use. Have a look at the dataset coordinates"
   ]
  },
  {
   "cell_type": "code",
   "execution_count": null,
   "id": "901d6c62-50c7-4485-b138-8ccf7524fe4d",
   "metadata": {
    "tags": []
   },
   "outputs": [],
   "source": [
    "data_yearly"
   ]
  },
  {
   "cell_type": "markdown",
   "id": "7c289f56-e011-4ed3-8dcb-2b1701773728",
   "metadata": {},
   "source": [
    "This coordinate we can use as a new time slicer."
   ]
  },
  {
   "cell_type": "code",
   "execution_count": null,
   "id": "428b48c3-2819-42d2-9e7e-5ce6f40e2026",
   "metadata": {
    "tags": []
   },
   "outputs": [],
   "source": [
    "data = data_yearly.sel(\n",
    "    year = [*range(1979, 2021, 3)]\n",
    ")"
   ]
  },
  {
   "cell_type": "code",
   "execution_count": null,
   "id": "1791e8fb-e095-4efb-b227-7046f954ae7b",
   "metadata": {
    "tags": []
   },
   "outputs": [],
   "source": [
    "data = data_yearly.sel(\n",
    "    year = slice(2010,2021)\n",
    ")"
   ]
  },
  {
   "cell_type": "markdown",
   "id": "d6510665-9993-4eb5-bf91-aa504f691e92",
   "metadata": {},
   "source": [
    "And with this new coordinate we can also finally introduce faceting which is one more plotting possibility"
   ]
  },
  {
   "cell_type": "code",
   "execution_count": null,
   "id": "c76bb2b2-b941-48d6-9cb6-fc8a9bb2ee22",
   "metadata": {
    "tags": []
   },
   "outputs": [],
   "source": [
    "data.plot(\n",
    "    col='year',\n",
    "    col_wrap=4,\n",
    "    cmap = 'inferno',\n",
    "    aspect = 4\n",
    ")"
   ]
  },
  {
   "cell_type": "markdown",
   "id": "dfe0a06b-fe49-44f6-9df0-9a9b891a280f",
   "metadata": {},
   "source": [
    "In this way you can nget a fast overview on data. Just check the years 2011 and 2019."
   ]
  }
 ],
 "metadata": {
  "kernelspec": {
   "display_name": "deepesdl-ml-2024.05",
   "language": "python",
   "name": "conda-env-deepesdl-ml-2024.05-py"
  },
  "language_info": {
   "codemirror_mode": {
    "name": "ipython",
    "version": 3
   },
   "file_extension": ".py",
   "mimetype": "text/x-python",
   "name": "python",
   "nbconvert_exporter": "python",
   "pygments_lexer": "ipython3",
   "version": "3.10.14"
  }
 },
 "nbformat": 4,
 "nbformat_minor": 5
}
