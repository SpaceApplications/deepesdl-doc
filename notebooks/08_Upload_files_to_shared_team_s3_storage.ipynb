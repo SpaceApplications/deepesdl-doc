{
 "cells": [
  {
   "cell_type": "markdown",
   "id": "4d45742c-f0b7-4633-a4b7-148b2348a397",
   "metadata": {},
   "source": [
    "## 08 - How to upload files to shared team S3 storage\n",
    "### A DeepESDL example notebook \n",
    "\n",
    "This notebook demonstrates how to upload files to shared team s3 storage and how to access them using xcube.\n",
    "\n",
    "Please, also refer to the [DeepESDL documentation](https://deepesdl.readthedocs.io/en/latest/guide/jupyterlab/) and visit the platform's [website](https://www.earthsystemdatalab.net/) for further information!\n",
    "\n",
    "Brockmann Consult, 2023\n",
    "\n",
    "-----------------\n",
    "\n",
    "**This notebook runs with the python environment `deepesdl-xcube-1.1.2`, please checkout the documentation for [help on changing the environment](https://deepesdl.readthedocs.io/en/latest/guide/jupyterlab/#python-environment-selection-of-the-jupyter-kerne).**"
   ]
  },
  {
   "cell_type": "code",
   "execution_count": 18,
   "id": "c9d42ade-82c0-4792-87f5-d19cc9121b64",
   "metadata": {},
   "outputs": [],
   "source": [
    "# needed for uploading files to s3 storage\n",
    "import os\n",
    "import boto3\n",
    "from botocore.exceptions import NoCredentialsError\n",
    "\n",
    "# needed for access of uploaded files\n",
    "from xcube.core.store import new_data_store"
   ]
  },
  {
   "cell_type": "markdown",
   "id": "518d0103-62c4-425a-b048-b9738f38c21b",
   "metadata": {},
   "source": [
    "Get the environment variables, which are necessary for later specifications"
   ]
  },
  {
   "cell_type": "code",
   "execution_count": 2,
   "id": "800c0028-0ca5-411a-bbc0-27c165312a06",
   "metadata": {},
   "outputs": [],
   "source": [
    "S3_USER_STORAGE_KEY = os.environ[\"S3_USER_STORAGE_KEY\"]\n",
    "S3_USER_STORAGE_SECRET = os.environ[\"S3_USER_STORAGE_SECRET\"]\n",
    "S3_USER_STORAGE_BUCKET = os.environ[\"endpoint\"]"
   ]
  },
  {
   "cell_type": "markdown",
   "id": "a476618d-0fc0-488b-9056-902053b375a2",
   "metadata": {},
   "source": [
    "Connect to your team storage in S3 "
   ]
  },
  {
   "cell_type": "code",
   "execution_count": 11,
   "id": "ca30974a-620b-4e18-accb-c9bd6e12af2c",
   "metadata": {},
   "outputs": [],
   "source": [
    "# Note:If you use a prefix when uploading the data so you need the parameter max_depth=2\n",
    "store = new_data_store(\"s3\",\n",
    "                       root=S3_USER_STORAGE_BUCKET,\n",
    "                       storage_options=dict(anon=False,\n",
    "                                            key=S3_USER_STORAGE_KEY,\n",
    "                                            secret=S3_USER_STORAGE_SECRET))"
   ]
  },
  {
   "cell_type": "markdown",
   "id": "d710eafe-8eff-40f4-9a94-9c631548f91e",
   "metadata": {},
   "source": [
    "You can check which dataformats are supported in xcube s3 store. This way you can find out which files you could easily store and then access by xcube from the s3 team storage space."
   ]
  },
  {
   "cell_type": "code",
   "execution_count": 14,
   "id": "a163fe93-34a7-47ec-b007-ce2f52d334b7",
   "metadata": {},
   "outputs": [
    {
     "data": {
      "text/plain": [
       "('dataset:netcdf:s3',\n",
       " 'dataset:zarr:s3',\n",
       " 'dataset:levels:s3',\n",
       " 'mldataset:levels:s3',\n",
       " 'dataset:geotiff:s3',\n",
       " 'mldataset:geotiff:s3',\n",
       " 'geodataframe:shapefile:s3',\n",
       " 'geodataframe:geojson:s3')"
      ]
     },
     "execution_count": 14,
     "metadata": {},
     "output_type": "execute_result"
    }
   ],
   "source": [
    "store.get_data_opener_ids()"
   ]
  },
  {
   "cell_type": "markdown",
   "id": "720a8557-f3e2-4ce0-8870-86c339136175",
   "metadata": {},
   "source": [
    "To upload files from your workspace to the s3 team shared storage, you must specify where your input files are:"
   ]
  },
  {
   "cell_type": "code",
   "execution_count": 3,
   "id": "d1dddad5-b48d-4041-9509-7a1e07864f54",
   "metadata": {},
   "outputs": [],
   "source": [
    "input_datasets_dir = os.path.expanduser(\"~/<path-to-your-files>\")"
   ]
  },
  {
   "cell_type": "code",
   "execution_count": 4,
   "id": "0c358c3d-da87-4e73-ac2c-022a509f3ce1",
   "metadata": {},
   "outputs": [],
   "source": [
    "local_store = new_data_store(\"file\",\n",
    "                             root=input_datasets_dir)"
   ]
  },
  {
   "cell_type": "code",
   "execution_count": 5,
   "id": "53570477-0c4d-4f2f-b1c2-2dc9cecf1a1c",
   "metadata": {},
   "outputs": [
    {
     "data": {
      "text/plain": [
       "['sample-geotiff.tif', 'sample-cog.tif']"
      ]
     },
     "execution_count": 5,
     "metadata": {},
     "output_type": "execute_result"
    }
   ],
   "source": [
    "list(local_store.get_data_ids())"
   ]
  },
  {
   "cell_type": "code",
   "execution_count": 19,
   "id": "2b531fb2-2a0f-485c-9838-de5ebd1aeab7",
   "metadata": {},
   "outputs": [],
   "source": [
    "# function used to upload data to s3 storage\n",
    "def upload_to_team_s3_bucket(local_file, bucket, s3_file):\n",
    "    s3 = boto3.client('s3', \n",
    "                      aws_access_key_id=S3_USER_STORAGE_KEY,\n",
    "                      aws_secret_access_key=S3_USER_STORAGE_SECRET)\n",
    "\n",
    "    try:\n",
    "        s3.upload_file(local_file, bucket, s3_file)\n",
    "        print(f\"Upload Successful of file {local_file}\")\n",
    "        return True\n",
    "    except NoCredentialsError:\n",
    "        print(\"Credentials not available\")\n",
    "        return False"
   ]
  },
  {
   "cell_type": "code",
   "execution_count": 7,
   "id": "918a5d38-7cee-4f95-a30b-c2bb07275f44",
   "metadata": {},
   "outputs": [],
   "source": [
    "# filter only for files in the directory\n",
    "data_files = [file for file in os.listdir(input_datasets_dir) if os.path.isfile(os.path.join(input_datasets_dir, file))]"
   ]
  },
  {
   "cell_type": "code",
   "execution_count": 8,
   "id": "7c4351d2-cd6c-4ed1-a515-1c3b7a03f964",
   "metadata": {},
   "outputs": [
    {
     "data": {
      "text/plain": [
       "['sample-geotiff.tif', 'sample-cog.tif']"
      ]
     },
     "execution_count": 8,
     "metadata": {},
     "output_type": "execute_result"
    }
   ],
   "source": [
    "data_files"
   ]
  },
  {
   "cell_type": "code",
   "execution_count": 9,
   "id": "323afbb7-43a2-4f95-8f29-9be03e972ad3",
   "metadata": {},
   "outputs": [],
   "source": [
    "prefix = \"input-datasets\" # giving a prefix, so a direcory like structure is created in s3 "
   ]
  },
  {
   "cell_type": "code",
   "execution_count": 10,
   "id": "f42ccc57-ff5a-47fe-812a-9dd93bc81603",
   "metadata": {},
   "outputs": [
    {
     "name": "stdout",
     "output_type": "stream",
     "text": [
      "Upload Successful\n",
      "Upload Successful\n"
     ]
    }
   ],
   "source": [
    "# looping through datasets and uploading them to s3 \n",
    "for data_file in data_files:\n",
    "    path = os.path.join(input_datasets_dir, data_file)\n",
    "    target_path = f\"{prefix}/{data_file}\"\n",
    "    upload_to_team_s3_bucket(path, S3_USER_STORAGE_BUCKET, target_path)"
   ]
  },
  {
   "cell_type": "markdown",
   "id": "1b95fed4-8c00-49c6-98ca-7f06ee65e4d4",
   "metadata": {},
   "source": [
    "Now lets check for the data: You need to instantiate a s3 datastore pointing to the deep-esdl-output bucket:"
   ]
  },
  {
   "cell_type": "code",
   "execution_count": 11,
   "id": "9b24f1f8-83a1-4040-a727-da7103382ec4",
   "metadata": {},
   "outputs": [],
   "source": [
    "# Note: If you use a prefix when uploading the data so you need the parameter max_depth=2\n",
    "store = new_data_store(\"s3\",\n",
    "                       max_depth=2,\n",
    "                       root=S3_USER_STORAGE_BUCKET,\n",
    "                       storage_options=dict(anon=False,\n",
    "                                            key=S3_USER_STORAGE_KEY,\n",
    "                                            secret=S3_USER_STORAGE_SECRET))"
   ]
  },
  {
   "cell_type": "code",
   "execution_count": 13,
   "id": "1f637302-8c5c-4b55-9e22-a57d818b4e59",
   "metadata": {},
   "outputs": [
    {
     "data": {
      "application/json": {
       "attrs": {
        "source": "s3://hub-deepesdl10/input-datasets/sample-geotiff.tif"
       },
       "bbox": [
        223586.23651964564,
        4184720.13006879,
        259261.49928124566,
        4217906.977453323
       ],
       "coords": {
        "spatial_ref": {
         "attrs": {
          "GeoTransform": "223586.23651964564 23.927070933333344 0.0 4217906.977453323 0.0 -23.927070933333344",
          "crs_wkt": "PROJCS[\"NAD83 / UTM zone 18N\",GEOGCS[\"NAD83\",DATUM[\"North_American_Datum_1983\",SPHEROID[\"GRS 1980\",6378137,298.257222101,AUTHORITY[\"EPSG\",\"7019\"]],AUTHORITY[\"EPSG\",\"6269\"]],PRIMEM[\"Greenwich\",0,AUTHORITY[\"EPSG\",\"8901\"]],UNIT[\"degree\",0.0174532925199433,AUTHORITY[\"EPSG\",\"9122\"]],AUTHORITY[\"EPSG\",\"4269\"]],PROJECTION[\"Transverse_Mercator\"],PARAMETER[\"latitude_of_origin\",0],PARAMETER[\"central_meridian\",-75],PARAMETER[\"scale_factor\",0.9996],PARAMETER[\"false_easting\",500000],PARAMETER[\"false_northing\",0],UNIT[\"metre\",1,AUTHORITY[\"EPSG\",\"9001\"]],AXIS[\"Easting\",EAST],AXIS[\"Northing\",NORTH],AUTHORITY[\"EPSG\",\"26918\"]]",
          "false_easting": 500000,
          "false_northing": 0,
          "geographic_crs_name": "NAD83",
          "grid_mapping_name": "transverse_mercator",
          "horizontal_datum_name": "North American Datum 1983",
          "inverse_flattening": 298.257222101,
          "latitude_of_projection_origin": 0,
          "longitude_of_central_meridian": -75,
          "longitude_of_prime_meridian": 0,
          "prime_meridian_name": "Greenwich",
          "projected_crs_name": "NAD83 / UTM zone 18N",
          "reference_ellipsoid_name": "GRS 1980",
          "scale_factor_at_central_meridian": 0.9996,
          "semi_major_axis": 6378137,
          "semi_minor_axis": 6356752.314140356,
          "spatial_ref": "PROJCS[\"NAD83 / UTM zone 18N\",GEOGCS[\"NAD83\",DATUM[\"North_American_Datum_1983\",SPHEROID[\"GRS 1980\",6378137,298.257222101,AUTHORITY[\"EPSG\",\"7019\"]],AUTHORITY[\"EPSG\",\"6269\"]],PRIMEM[\"Greenwich\",0,AUTHORITY[\"EPSG\",\"8901\"]],UNIT[\"degree\",0.0174532925199433,AUTHORITY[\"EPSG\",\"9122\"]],AUTHORITY[\"EPSG\",\"4269\"]],PROJECTION[\"Transverse_Mercator\"],PARAMETER[\"latitude_of_origin\",0],PARAMETER[\"central_meridian\",-75],PARAMETER[\"scale_factor\",0.9996],PARAMETER[\"false_easting\",500000],PARAMETER[\"false_northing\",0],UNIT[\"metre\",1,AUTHORITY[\"EPSG\",\"9001\"]],AXIS[\"Easting\",EAST],AXIS[\"Northing\",NORTH],AUTHORITY[\"EPSG\",\"26918\"]]"
         },
         "dims": [],
         "dtype": "int64",
         "name": "spatial_ref"
        },
        "x": {
         "dims": [
          "x"
         ],
         "dtype": "float64",
         "name": "x"
        },
        "y": {
         "dims": [
          "y"
         ],
         "dtype": "float64",
         "name": "y"
        }
       },
       "data_id": "input-datasets/sample-geotiff.tif",
       "data_type": "mldataset",
       "data_vars": {
        "band_1": {
         "attrs": {
          "AREA_OR_POINT": "Area",
          "add_offset": 0,
          "grid_mapping": "spatial_ref",
          "scale_factor": 1
         },
         "chunks": [
          512,
          512
         ],
         "dims": [
          "y",
          "x"
         ],
         "dtype": "uint8",
         "name": "band_1"
        },
        "band_2": {
         "attrs": {
          "AREA_OR_POINT": "Area",
          "add_offset": 0,
          "grid_mapping": "spatial_ref",
          "scale_factor": 1
         },
         "chunks": [
          512,
          512
         ],
         "dims": [
          "y",
          "x"
         ],
         "dtype": "uint8",
         "name": "band_2"
        },
        "band_3": {
         "attrs": {
          "AREA_OR_POINT": "Area",
          "add_offset": 0,
          "grid_mapping": "spatial_ref",
          "scale_factor": 1
         },
         "chunks": [
          512,
          512
         ],
         "dims": [
          "y",
          "x"
         ],
         "dtype": "uint8",
         "name": "band_3"
        }
       },
       "dims": {
        "x": 1491,
        "y": 1387
       },
       "num_levels": 1,
       "spatial_res": 23.927070933394134,
       "time_range": [
        null,
        null
       ]
      },
      "text/plain": [
       "<xcube.core.store.descriptor.MultiLevelDatasetDescriptor at 0x7f39b3960d50>"
      ]
     },
     "execution_count": 13,
     "metadata": {},
     "output_type": "execute_result"
    }
   ],
   "source": [
    "store.describe_data('input-datasets/sample-geotiff.tif')"
   ]
  },
  {
   "cell_type": "markdown",
   "id": "27a6e8c6-7bf4-4b02-ab19-05dd294d04e6",
   "metadata": {},
   "source": [
    "In case you wish to delete data: "
   ]
  },
  {
   "cell_type": "code",
   "execution_count": 14,
   "id": "365ae590-2cc0-41a0-b982-88bdd02c0c49",
   "metadata": {},
   "outputs": [],
   "source": [
    "store.delete_data('input-datasets/sample-geotiff.tif')"
   ]
  },
  {
   "cell_type": "code",
   "execution_count": 15,
   "id": "dcbfd50f-fe9b-4630-861f-4e57fcee062e",
   "metadata": {},
   "outputs": [],
   "source": [
    "store.delete_data('input-datasets/sample-cog.tif')"
   ]
  },
  {
   "cell_type": "code",
   "execution_count": 16,
   "id": "962c8af6-6734-45f1-bf10-87f128462c18",
   "metadata": {},
   "outputs": [
    {
     "data": {
      "text/plain": [
       "[]"
      ]
     },
     "execution_count": 16,
     "metadata": {},
     "output_type": "execute_result"
    }
   ],
   "source": [
    "list(store.get_data_ids())"
   ]
  }
 ],
 "metadata": {
  "kernelspec": {
   "display_name": "deepesdl-xcube-1.1.2",
   "language": "python",
   "name": "conda-env-deepesdl-xcube-1.1.2-py"
  },
  "language_info": {
   "codemirror_mode": {
    "name": "ipython",
    "version": 3
   },
   "file_extension": ".py",
   "mimetype": "text/x-python",
   "name": "python",
   "nbconvert_exporter": "python",
   "pygments_lexer": "ipython3",
   "version": "3.11.4"
  }
 },
 "nbformat": 4,
 "nbformat_minor": 5
}
